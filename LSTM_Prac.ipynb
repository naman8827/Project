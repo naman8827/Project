{
  "nbformat": 4,
  "nbformat_minor": 0,
  "metadata": {
    "colab": {
      "name": "LSTM Prac",
      "provenance": [],
      "authorship_tag": "ABX9TyOLzFzHSf7EI2UFtnolUNbX",
      "include_colab_link": true
    },
    "kernelspec": {
      "name": "python3",
      "display_name": "Python 3"
    }
  },
  "cells": [
    {
      "cell_type": "markdown",
      "metadata": {
        "id": "view-in-github",
        "colab_type": "text"
      },
      "source": [
        "<a href=\"https://colab.research.google.com/github/naman8827/Project/blob/master/LSTM_Prac.ipynb\" target=\"_parent\"><img src=\"https://colab.research.google.com/assets/colab-badge.svg\" alt=\"Open In Colab\"/></a>"
      ]
    },
    {
      "cell_type": "code",
      "metadata": {
        "id": "EIvpW6boL_n1",
        "colab_type": "code",
        "outputId": "d6774ef8-0278-4349-8b8b-90bf21bd6e12",
        "colab": {
          "base_uri": "https://localhost:8080/",
          "height": 35
        }
      },
      "source": [
        "from keras.layers import Input, Dense\n",
        "from keras.models import Model\n",
        "import numpy as np \n",
        "import pandas as pd\n",
        "\n",
        "sentences = []\n",
        "s1 = 'this is sentence 1'\n",
        "s2 = 'this is sentence 2'\n",
        "\n",
        "sentences.append(s1)\n",
        "sentences.append(s2)\n",
        "\n",
        "def get_all_words(sentences) : \n",
        "\n",
        "  unf = [s.split(' ') for s in sentences]\n",
        "\n",
        "  all_words = []\n",
        "\n",
        "  for f in unf : \n",
        "    for f2 in f : \n",
        "      all_words.append(f2)\n",
        "\n",
        "  return all_words\n",
        "\n",
        "\n",
        "all_words = get_all_words(sentences)\n",
        "print(all_words)"
      ],
      "execution_count": 0,
      "outputs": [
        {
          "output_type": "stream",
          "text": [
            "['this', 'is', 'sentence', '1', 'this', 'is', 'sentence', '2']\n"
          ],
          "name": "stdout"
        }
      ]
    },
    {
      "cell_type": "code",
      "metadata": {
        "id": "6q4AEEA6M1hm",
        "colab_type": "code",
        "outputId": "480fca51-c5df-49ff-b23a-042f70f2a16d",
        "colab": {
          "base_uri": "https://localhost:8080/",
          "height": 271
        }
      },
      "source": [
        "def get_one_hot(s , s1 , all_words) : \n",
        "  flattened = []\n",
        "  one_hot_encoded_df = pd.get_dummies(list(set(all_words)))\n",
        "  print(one_hot_encoded_df)\n",
        "  print(np.array(one_hot_encoded_df['this']))\n",
        "  for a in [np.array(one_hot_encoded_df[s]) for s in s1.split(' ')] : \n",
        "    for aa in a : \n",
        "      flattened.append(aa)\n",
        "\n",
        "  \n",
        "get_one_hot(sentences , s1 , all_words)\n",
        "get_one_hot(sentences , s2 , all_words)\n",
        "\n"
      ],
      "execution_count": 0,
      "outputs": [
        {
          "output_type": "stream",
          "text": [
            "   1  2  is  sentence  this\n",
            "0  0  1   0         0     0\n",
            "1  0  0   0         1     0\n",
            "2  1  0   0         0     0\n",
            "3  0  0   1         0     0\n",
            "4  0  0   0         0     1\n",
            "[0 0 0 0 1]\n",
            "   1  2  is  sentence  this\n",
            "0  0  1   0         0     0\n",
            "1  0  0   0         1     0\n",
            "2  1  0   0         0     0\n",
            "3  0  0   1         0     0\n",
            "4  0  0   0         0     1\n",
            "[0 0 0 0 1]\n"
          ],
          "name": "stdout"
        }
      ]
    },
    {
      "cell_type": "code",
      "metadata": {
        "id": "sXH2QFHFTfRs",
        "colab_type": "code",
        "outputId": "bfdf86a6-4429-4b4f-d413-5b9d31cf522a",
        "colab": {
          "base_uri": "https://localhost:8080/",
          "height": 35
        }
      },
      "source": [
        "from keras.preprocessing.text import Tokenizer\n",
        "\n",
        "def vocab_creater(text_lists, VOCAB_SIZE):\n",
        "\n",
        "  tokenizer = Tokenizer(num_words=VOCAB_SIZE)\n",
        "  tokenizer.fit_on_texts(text_lists)\n",
        "  dictionary = tokenizer.word_index\n",
        "  \n",
        "  word2idx = {}\n",
        "  idx2word = {}\n",
        "  for k, v in dictionary.items():\n",
        "      if v < VOCAB_SIZE:\n",
        "          word2idx[k] = v\n",
        "          idx2word[v] = k\n",
        "      if v >= VOCAB_SIZE-1:\n",
        "          continue\n",
        "          \n",
        "  return word2idx, idx2word\n",
        "\n",
        "encoder_input_text='this is a pen'\n",
        "word2idx, idx2word = vocab_creater(text_lists=encoder_input_text, VOCAB_SIZE=14999)\n",
        "print(word2idx, idx2word)"
      ],
      "execution_count": 0,
      "outputs": [
        {
          "output_type": "stream",
          "text": [
            "{'i': 1, 's': 2, 't': 3, 'h': 4, 'a': 5, 'p': 6, 'e': 7, 'n': 8} {1: 'i', 2: 's', 3: 't', 4: 'h', 5: 'a', 6: 'p', 7: 'e', 8: 'n'}\n"
          ],
          "name": "stdout"
        }
      ]
    },
    {
      "cell_type": "code",
      "metadata": {
        "id": "y_zZC7mIZ1ZC",
        "colab_type": "code",
        "outputId": "6e15e222-6322-44d1-b071-8014d6f06ee2",
        "colab": {
          "base_uri": "https://localhost:8080/",
          "height": 469
        }
      },
      "source": [
        "def seq2seq_model_builder(HIDDEN_DIM=300):\n",
        "    \n",
        "    encoder_inputs = Input(shape=(MAX_LEN, ), dtype='int32',)\n",
        "    encoder_embedding = embed_layer(encoder_inputs)\n",
        "    encoder_LSTM = LSTM(HIDDEN_DIM, return_state=True)\n",
        "    encoder_outputs, state_h, state_c = encoder_LSTM(encoder_embedding)\n",
        "    \n",
        "    decoder_inputs = Input(shape=(MAX_LEN, ), dtype='int32',)\n",
        "    decoder_embedding = embed_layer(decoder_inputs)\n",
        "    decoder_LSTM = LSTM(HIDDEN_DIM, return_state=True, return_sequences=True)\n",
        "    decoder_outputs, _, _ = decoder_LSTM(decoder_embedding, initial_state=[state_h, state_c])\n",
        "    \n",
        "    # dense_layer = Dense(VOCAB_SIZE, activation='softmax')\n",
        "    outputs = TimeDistributed(Dense(VOCAB_SIZE, activation='softmax'))(decoder_outputs)\n",
        "    model = Model([encoder_inputs, decoder_inputs], outputs)\n",
        "    \n",
        "    return model\n",
        "MAX_LEN=10   \n",
        "model = seq2seq_model_builder(HIDDEN_DIM=300)\n",
        "model.summary()    "
      ],
      "execution_count": 0,
      "outputs": [
        {
          "output_type": "error",
          "ename": "RuntimeError",
          "evalue": "ignored",
          "traceback": [
            "\u001b[0;31m---------------------------------------------------------------------------\u001b[0m",
            "\u001b[0;31mAttributeError\u001b[0m                            Traceback (most recent call last)",
            "\u001b[0;32m/usr/local/lib/python3.6/dist-packages/keras/backend/tensorflow_backend.py\u001b[0m in \u001b[0;36m_get_default_graph\u001b[0;34m()\u001b[0m\n\u001b[1;32m     65\u001b[0m     \u001b[0;32mtry\u001b[0m\u001b[0;34m:\u001b[0m\u001b[0;34m\u001b[0m\u001b[0;34m\u001b[0m\u001b[0m\n\u001b[0;32m---> 66\u001b[0;31m         \u001b[0;32mreturn\u001b[0m \u001b[0mtf\u001b[0m\u001b[0;34m.\u001b[0m\u001b[0mget_default_graph\u001b[0m\u001b[0;34m(\u001b[0m\u001b[0;34m)\u001b[0m\u001b[0;34m\u001b[0m\u001b[0;34m\u001b[0m\u001b[0m\n\u001b[0m\u001b[1;32m     67\u001b[0m     \u001b[0;32mexcept\u001b[0m \u001b[0mAttributeError\u001b[0m\u001b[0;34m:\u001b[0m\u001b[0;34m\u001b[0m\u001b[0;34m\u001b[0m\u001b[0m\n",
            "\u001b[0;31mAttributeError\u001b[0m: module 'tensorflow' has no attribute 'get_default_graph'",
            "\nDuring handling of the above exception, another exception occurred:\n",
            "\u001b[0;31mRuntimeError\u001b[0m                              Traceback (most recent call last)",
            "\u001b[0;32m<ipython-input-27-0d956da096a4>\u001b[0m in \u001b[0;36m<module>\u001b[0;34m()\u001b[0m\n\u001b[1;32m     17\u001b[0m     \u001b[0;32mreturn\u001b[0m \u001b[0mmodel\u001b[0m\u001b[0;34m\u001b[0m\u001b[0;34m\u001b[0m\u001b[0m\n\u001b[1;32m     18\u001b[0m \u001b[0mMAX_LEN\u001b[0m\u001b[0;34m=\u001b[0m\u001b[0;36m10\u001b[0m\u001b[0;34m\u001b[0m\u001b[0;34m\u001b[0m\u001b[0m\n\u001b[0;32m---> 19\u001b[0;31m \u001b[0mmodel\u001b[0m \u001b[0;34m=\u001b[0m \u001b[0mseq2seq_model_builder\u001b[0m\u001b[0;34m(\u001b[0m\u001b[0mHIDDEN_DIM\u001b[0m\u001b[0;34m=\u001b[0m\u001b[0;36m300\u001b[0m\u001b[0;34m)\u001b[0m\u001b[0;34m\u001b[0m\u001b[0;34m\u001b[0m\u001b[0m\n\u001b[0m\u001b[1;32m     20\u001b[0m \u001b[0mmodel\u001b[0m\u001b[0;34m.\u001b[0m\u001b[0msummary\u001b[0m\u001b[0;34m(\u001b[0m\u001b[0;34m)\u001b[0m\u001b[0;34m\u001b[0m\u001b[0;34m\u001b[0m\u001b[0m\n",
            "\u001b[0;32m<ipython-input-27-0d956da096a4>\u001b[0m in \u001b[0;36mseq2seq_model_builder\u001b[0;34m(HIDDEN_DIM)\u001b[0m\n\u001b[1;32m      1\u001b[0m \u001b[0;32mdef\u001b[0m \u001b[0mseq2seq_model_builder\u001b[0m\u001b[0;34m(\u001b[0m\u001b[0mHIDDEN_DIM\u001b[0m\u001b[0;34m=\u001b[0m\u001b[0;36m300\u001b[0m\u001b[0;34m)\u001b[0m\u001b[0;34m:\u001b[0m\u001b[0;34m\u001b[0m\u001b[0;34m\u001b[0m\u001b[0m\n\u001b[1;32m      2\u001b[0m \u001b[0;34m\u001b[0m\u001b[0m\n\u001b[0;32m----> 3\u001b[0;31m     \u001b[0mencoder_inputs\u001b[0m \u001b[0;34m=\u001b[0m \u001b[0mInput\u001b[0m\u001b[0;34m(\u001b[0m\u001b[0mshape\u001b[0m\u001b[0;34m=\u001b[0m\u001b[0;34m(\u001b[0m\u001b[0mMAX_LEN\u001b[0m\u001b[0;34m,\u001b[0m \u001b[0;34m)\u001b[0m\u001b[0;34m,\u001b[0m \u001b[0mdtype\u001b[0m\u001b[0;34m=\u001b[0m\u001b[0;34m'int32'\u001b[0m\u001b[0;34m,\u001b[0m\u001b[0;34m)\u001b[0m\u001b[0;34m\u001b[0m\u001b[0;34m\u001b[0m\u001b[0m\n\u001b[0m\u001b[1;32m      4\u001b[0m     \u001b[0mencoder_embedding\u001b[0m \u001b[0;34m=\u001b[0m \u001b[0membed_layer\u001b[0m\u001b[0;34m(\u001b[0m\u001b[0mencoder_inputs\u001b[0m\u001b[0;34m)\u001b[0m\u001b[0;34m\u001b[0m\u001b[0;34m\u001b[0m\u001b[0m\n\u001b[1;32m      5\u001b[0m     \u001b[0mencoder_LSTM\u001b[0m \u001b[0;34m=\u001b[0m \u001b[0mLSTM\u001b[0m\u001b[0;34m(\u001b[0m\u001b[0mHIDDEN_DIM\u001b[0m\u001b[0;34m,\u001b[0m \u001b[0mreturn_state\u001b[0m\u001b[0;34m=\u001b[0m\u001b[0;32mTrue\u001b[0m\u001b[0;34m)\u001b[0m\u001b[0;34m\u001b[0m\u001b[0;34m\u001b[0m\u001b[0m\n",
            "\u001b[0;32m/usr/local/lib/python3.6/dist-packages/keras/engine/input_layer.py\u001b[0m in \u001b[0;36mInput\u001b[0;34m(shape, batch_shape, name, dtype, sparse, tensor)\u001b[0m\n\u001b[1;32m    176\u001b[0m                              \u001b[0mname\u001b[0m\u001b[0;34m=\u001b[0m\u001b[0mname\u001b[0m\u001b[0;34m,\u001b[0m \u001b[0mdtype\u001b[0m\u001b[0;34m=\u001b[0m\u001b[0mdtype\u001b[0m\u001b[0;34m,\u001b[0m\u001b[0;34m\u001b[0m\u001b[0;34m\u001b[0m\u001b[0m\n\u001b[1;32m    177\u001b[0m                              \u001b[0msparse\u001b[0m\u001b[0;34m=\u001b[0m\u001b[0msparse\u001b[0m\u001b[0;34m,\u001b[0m\u001b[0;34m\u001b[0m\u001b[0;34m\u001b[0m\u001b[0m\n\u001b[0;32m--> 178\u001b[0;31m                              input_tensor=tensor)\n\u001b[0m\u001b[1;32m    179\u001b[0m     \u001b[0;31m# Return tensor including _keras_shape and _keras_history.\u001b[0m\u001b[0;34m\u001b[0m\u001b[0;34m\u001b[0m\u001b[0;34m\u001b[0m\u001b[0m\n\u001b[1;32m    180\u001b[0m     \u001b[0;31m# Note that in this case train_output and test_output are the same pointer.\u001b[0m\u001b[0;34m\u001b[0m\u001b[0;34m\u001b[0m\u001b[0;34m\u001b[0m\u001b[0m\n",
            "\u001b[0;32m/usr/local/lib/python3.6/dist-packages/keras/legacy/interfaces.py\u001b[0m in \u001b[0;36mwrapper\u001b[0;34m(*args, **kwargs)\u001b[0m\n\u001b[1;32m     89\u001b[0m                 warnings.warn('Update your `' + object_name + '` call to the ' +\n\u001b[1;32m     90\u001b[0m                               'Keras 2 API: ' + signature, stacklevel=2)\n\u001b[0;32m---> 91\u001b[0;31m             \u001b[0;32mreturn\u001b[0m \u001b[0mfunc\u001b[0m\u001b[0;34m(\u001b[0m\u001b[0;34m*\u001b[0m\u001b[0margs\u001b[0m\u001b[0;34m,\u001b[0m \u001b[0;34m**\u001b[0m\u001b[0mkwargs\u001b[0m\u001b[0;34m)\u001b[0m\u001b[0;34m\u001b[0m\u001b[0;34m\u001b[0m\u001b[0m\n\u001b[0m\u001b[1;32m     92\u001b[0m         \u001b[0mwrapper\u001b[0m\u001b[0;34m.\u001b[0m\u001b[0m_original_function\u001b[0m \u001b[0;34m=\u001b[0m \u001b[0mfunc\u001b[0m\u001b[0;34m\u001b[0m\u001b[0;34m\u001b[0m\u001b[0m\n\u001b[1;32m     93\u001b[0m         \u001b[0;32mreturn\u001b[0m \u001b[0mwrapper\u001b[0m\u001b[0;34m\u001b[0m\u001b[0;34m\u001b[0m\u001b[0m\n",
            "\u001b[0;32m/usr/local/lib/python3.6/dist-packages/keras/engine/input_layer.py\u001b[0m in \u001b[0;36m__init__\u001b[0;34m(self, input_shape, batch_size, batch_input_shape, dtype, input_tensor, sparse, name)\u001b[0m\n\u001b[1;32m     37\u001b[0m         \u001b[0;32mif\u001b[0m \u001b[0;32mnot\u001b[0m \u001b[0mname\u001b[0m\u001b[0;34m:\u001b[0m\u001b[0;34m\u001b[0m\u001b[0;34m\u001b[0m\u001b[0m\n\u001b[1;32m     38\u001b[0m             \u001b[0mprefix\u001b[0m \u001b[0;34m=\u001b[0m \u001b[0;34m'input'\u001b[0m\u001b[0;34m\u001b[0m\u001b[0;34m\u001b[0m\u001b[0m\n\u001b[0;32m---> 39\u001b[0;31m             \u001b[0mname\u001b[0m \u001b[0;34m=\u001b[0m \u001b[0mprefix\u001b[0m \u001b[0;34m+\u001b[0m \u001b[0;34m'_'\u001b[0m \u001b[0;34m+\u001b[0m \u001b[0mstr\u001b[0m\u001b[0;34m(\u001b[0m\u001b[0mK\u001b[0m\u001b[0;34m.\u001b[0m\u001b[0mget_uid\u001b[0m\u001b[0;34m(\u001b[0m\u001b[0mprefix\u001b[0m\u001b[0;34m)\u001b[0m\u001b[0;34m)\u001b[0m\u001b[0;34m\u001b[0m\u001b[0;34m\u001b[0m\u001b[0m\n\u001b[0m\u001b[1;32m     40\u001b[0m         \u001b[0msuper\u001b[0m\u001b[0;34m(\u001b[0m\u001b[0mInputLayer\u001b[0m\u001b[0;34m,\u001b[0m \u001b[0mself\u001b[0m\u001b[0;34m)\u001b[0m\u001b[0;34m.\u001b[0m\u001b[0m__init__\u001b[0m\u001b[0;34m(\u001b[0m\u001b[0mdtype\u001b[0m\u001b[0;34m=\u001b[0m\u001b[0mdtype\u001b[0m\u001b[0;34m,\u001b[0m \u001b[0mname\u001b[0m\u001b[0;34m=\u001b[0m\u001b[0mname\u001b[0m\u001b[0;34m)\u001b[0m\u001b[0;34m\u001b[0m\u001b[0;34m\u001b[0m\u001b[0m\n\u001b[1;32m     41\u001b[0m \u001b[0;34m\u001b[0m\u001b[0m\n",
            "\u001b[0;32m/usr/local/lib/python3.6/dist-packages/keras/backend/tensorflow_backend.py\u001b[0m in \u001b[0;36mget_uid\u001b[0;34m(prefix)\u001b[0m\n\u001b[1;32m     84\u001b[0m     \"\"\"\n\u001b[1;32m     85\u001b[0m     \u001b[0;32mglobal\u001b[0m \u001b[0m_GRAPH_UID_DICTS\u001b[0m\u001b[0;34m\u001b[0m\u001b[0;34m\u001b[0m\u001b[0m\n\u001b[0;32m---> 86\u001b[0;31m     \u001b[0mgraph\u001b[0m \u001b[0;34m=\u001b[0m \u001b[0m_get_default_graph\u001b[0m\u001b[0;34m(\u001b[0m\u001b[0;34m)\u001b[0m\u001b[0;34m\u001b[0m\u001b[0;34m\u001b[0m\u001b[0m\n\u001b[0m\u001b[1;32m     87\u001b[0m     \u001b[0;32mif\u001b[0m \u001b[0mgraph\u001b[0m \u001b[0;32mnot\u001b[0m \u001b[0;32min\u001b[0m \u001b[0m_GRAPH_UID_DICTS\u001b[0m\u001b[0;34m:\u001b[0m\u001b[0;34m\u001b[0m\u001b[0;34m\u001b[0m\u001b[0m\n\u001b[1;32m     88\u001b[0m         \u001b[0m_GRAPH_UID_DICTS\u001b[0m\u001b[0;34m[\u001b[0m\u001b[0mgraph\u001b[0m\u001b[0;34m]\u001b[0m \u001b[0;34m=\u001b[0m \u001b[0mdefaultdict\u001b[0m\u001b[0;34m(\u001b[0m\u001b[0mint\u001b[0m\u001b[0;34m)\u001b[0m\u001b[0;34m\u001b[0m\u001b[0;34m\u001b[0m\u001b[0m\n",
            "\u001b[0;32m/usr/local/lib/python3.6/dist-packages/keras/backend/tensorflow_backend.py\u001b[0m in \u001b[0;36m_get_default_graph\u001b[0;34m()\u001b[0m\n\u001b[1;32m     67\u001b[0m     \u001b[0;32mexcept\u001b[0m \u001b[0mAttributeError\u001b[0m\u001b[0;34m:\u001b[0m\u001b[0;34m\u001b[0m\u001b[0;34m\u001b[0m\u001b[0m\n\u001b[1;32m     68\u001b[0m         raise RuntimeError(\n\u001b[0;32m---> 69\u001b[0;31m             \u001b[0;34m'It looks like you are trying to use '\u001b[0m\u001b[0;34m\u001b[0m\u001b[0;34m\u001b[0m\u001b[0m\n\u001b[0m\u001b[1;32m     70\u001b[0m             \u001b[0;34m'a version of multi-backend Keras that '\u001b[0m\u001b[0;34m\u001b[0m\u001b[0;34m\u001b[0m\u001b[0m\n\u001b[1;32m     71\u001b[0m             \u001b[0;34m'does not support TensorFlow 2.0. We recommend '\u001b[0m\u001b[0;34m\u001b[0m\u001b[0;34m\u001b[0m\u001b[0m\n",
            "\u001b[0;31mRuntimeError\u001b[0m: It looks like you are trying to use a version of multi-backend Keras that does not support TensorFlow 2.0. We recommend using `tf.keras`, or alternatively, downgrading to TensorFlow 1.14."
          ]
        }
      ]
    },
    {
      "cell_type": "code",
      "metadata": {
        "id": "EOyclmRhayYc",
        "colab_type": "code",
        "outputId": "e41cadea-8933-4b2d-df71-884a6daf6136",
        "colab": {
          "base_uri": "https://localhost:8080/",
          "height": 417
        }
      },
      "source": [
        "from pandas import Series\n",
        "from sklearn.preprocessing import MinMaxScaler\n",
        "# define contrived series\n",
        "data = [10.1, 20.0, 30.0, 40.0, 50.0, 60.0, 70.0, 80.0, 90.0, 100.0]\n",
        "series = Series(data)\n",
        "#print (series)\n",
        "# prepare data for normalization\n",
        "values = series.values\n",
        "print(values)\n",
        "values = values.reshape((len (values), 1))\n",
        "print(values)\n",
        "# train the normalization\n",
        "scaler = MinMaxScaler(feature_range=(0, 1))\n",
        "scaler = scaler.fit(values)\n",
        "print ( 'Min : %f, Max : %f' % (scaler.data_min_, scaler.data_max_))\n",
        "# normalize the dataset and print\n",
        "normalized = scaler.transform(values)\n",
        "print (normalized)\n",
        "# inverse transform and print\n",
        "inversed = scaler.inverse_transform(normalized)\n",
        "#print (inversed)"
      ],
      "execution_count": 0,
      "outputs": [
        {
          "output_type": "stream",
          "text": [
            "[ 10.1  20.   30.   40.   50.   60.   70.   80.   90.  100. ]\n",
            "[[ 10.1]\n",
            " [ 20. ]\n",
            " [ 30. ]\n",
            " [ 40. ]\n",
            " [ 50. ]\n",
            " [ 60. ]\n",
            " [ 70. ]\n",
            " [ 80. ]\n",
            " [ 90. ]\n",
            " [100. ]]\n",
            "Min : 10.100000, Max : 100.000000\n",
            "[[0.        ]\n",
            " [0.11012236]\n",
            " [0.22135706]\n",
            " [0.33259177]\n",
            " [0.44382647]\n",
            " [0.55506118]\n",
            " [0.66629588]\n",
            " [0.77753059]\n",
            " [0.88876529]\n",
            " [1.        ]]\n"
          ],
          "name": "stdout"
        }
      ]
    },
    {
      "cell_type": "code",
      "metadata": {
        "id": "OpvywISZjUAt",
        "colab_type": "code",
        "outputId": "a8c8fa56-74b7-4f69-b84c-15116c8811d4",
        "colab": {
          "base_uri": "https://localhost:8080/",
          "height": 225
        }
      },
      "source": [
        "model = Sequential()\n",
        "model.add(LSTM(5, input_shape=(2,1)))\n",
        "model.add(Dense(1))\n",
        "model.add(Activation( sigmoid ))"
      ],
      "execution_count": 0,
      "outputs": [
        {
          "output_type": "error",
          "ename": "NameError",
          "evalue": "ignored",
          "traceback": [
            "\u001b[0;31m---------------------------------------------------------------------------\u001b[0m",
            "\u001b[0;31mNameError\u001b[0m                                 Traceback (most recent call last)",
            "\u001b[0;32m<ipython-input-2-fd5bbfc43a24>\u001b[0m in \u001b[0;36m<module>\u001b[0;34m()\u001b[0m\n\u001b[0;32m----> 1\u001b[0;31m \u001b[0mmodel\u001b[0m \u001b[0;34m=\u001b[0m \u001b[0mSequential\u001b[0m\u001b[0;34m(\u001b[0m\u001b[0;34m)\u001b[0m\u001b[0;34m\u001b[0m\u001b[0;34m\u001b[0m\u001b[0m\n\u001b[0m\u001b[1;32m      2\u001b[0m \u001b[0mmodel\u001b[0m\u001b[0;34m.\u001b[0m\u001b[0madd\u001b[0m\u001b[0;34m(\u001b[0m\u001b[0mLSTM\u001b[0m\u001b[0;34m(\u001b[0m\u001b[0;36m5\u001b[0m\u001b[0;34m,\u001b[0m \u001b[0minput_shape\u001b[0m\u001b[0;34m=\u001b[0m\u001b[0;34m(\u001b[0m\u001b[0;36m2\u001b[0m\u001b[0;34m,\u001b[0m\u001b[0;36m1\u001b[0m\u001b[0;34m)\u001b[0m\u001b[0;34m)\u001b[0m\u001b[0;34m)\u001b[0m\u001b[0;34m\u001b[0m\u001b[0;34m\u001b[0m\u001b[0m\n\u001b[1;32m      3\u001b[0m \u001b[0mmodel\u001b[0m\u001b[0;34m.\u001b[0m\u001b[0madd\u001b[0m\u001b[0;34m(\u001b[0m\u001b[0mDense\u001b[0m\u001b[0;34m(\u001b[0m\u001b[0;36m1\u001b[0m\u001b[0;34m)\u001b[0m\u001b[0;34m)\u001b[0m\u001b[0;34m\u001b[0m\u001b[0;34m\u001b[0m\u001b[0m\n\u001b[1;32m      4\u001b[0m \u001b[0mmodel\u001b[0m\u001b[0;34m.\u001b[0m\u001b[0madd\u001b[0m\u001b[0;34m(\u001b[0m\u001b[0mActivation\u001b[0m\u001b[0;34m(\u001b[0m \u001b[0msigmoid\u001b[0m \u001b[0;34m)\u001b[0m\u001b[0;34m)\u001b[0m\u001b[0;34m\u001b[0m\u001b[0;34m\u001b[0m\u001b[0m\n",
            "\u001b[0;31mNameError\u001b[0m: name 'Sequential' is not defined"
          ]
        }
      ]
    },
    {
      "cell_type": "code",
      "metadata": {
        "id": "ZSzOLerLD2MY",
        "colab_type": "code",
        "outputId": "ee63d953-8b5e-4599-a0c9-6cf225b12eac",
        "colab": {
          "base_uri": "https://localhost:8080/",
          "height": 108
        }
      },
      "source": [
        "from numpy import array\n",
        "data = array([0.1, 0.2, 0.3, 0.4, 0.5, 0.6, 0.7, 0.8, 0.9, 1.0])\n",
        "data = data.reshape((1, 5, 2))\n",
        "print(data)"
      ],
      "execution_count": 0,
      "outputs": [
        {
          "output_type": "stream",
          "text": [
            "[[[0.1 0.2]\n",
            "  [0.3 0.4]\n",
            "  [0.5 0.6]\n",
            "  [0.7 0.8]\n",
            "  [0.9 1. ]]]\n"
          ],
          "name": "stdout"
        }
      ]
    },
    {
      "cell_type": "code",
      "metadata": {
        "id": "mLb53CrRBvAk",
        "colab_type": "code",
        "outputId": "523fbec0-7a4f-44da-87a4-a71eca40557c",
        "colab": {
          "base_uri": "https://localhost:8080/",
          "height": 35
        }
      },
      "source": [
        "import random\n",
        "def generate_sequence(length, n_features):\n",
        " return [random.randint(0, n_features-1) for _ in range (length)]\n",
        "p=generate_sequence(10,5)\n",
        "print(p)\n",
        " "
      ],
      "execution_count": 0,
      "outputs": [
        {
          "output_type": "stream",
          "text": [
            "[4, 2, 2, 2, 3, 0, 0, 3, 2, 2]\n"
          ],
          "name": "stdout"
        }
      ]
    },
    {
      "cell_type": "code",
      "metadata": {
        "id": "LyVYGHNuH4ju",
        "colab_type": "code",
        "outputId": "8e7a68e3-6b0e-484c-8dca-44eb86b3bc3b",
        "colab": {
          "base_uri": "https://localhost:8080/",
          "height": 217
        }
      },
      "source": [
        "# one hot encode sequence\n",
        "from numpy import array\n",
        "import pandas\n",
        "def one_hot_encode(sequence, n_features):\n",
        " encoding = list()\n",
        " for value in sequence:\n",
        "  vector = [0 for _ in range (n_features)]\n",
        "  vector[value] = 1\n",
        "  encoding.append(vector)\n",
        " return array(encoding)\n",
        "print(p) \n",
        "Y=one_hot_encode(p, 5) \n",
        "print(Y)"
      ],
      "execution_count": 0,
      "outputs": [
        {
          "output_type": "stream",
          "text": [
            "[4, 2, 2, 2, 3, 0, 0, 3, 2, 2]\n",
            "[[0 0 0 0 1]\n",
            " [0 0 1 0 0]\n",
            " [0 0 1 0 0]\n",
            " [0 0 1 0 0]\n",
            " [0 0 0 1 0]\n",
            " [1 0 0 0 0]\n",
            " [1 0 0 0 0]\n",
            " [0 0 0 1 0]\n",
            " [0 0 1 0 0]\n",
            " [0 0 1 0 0]]\n"
          ],
          "name": "stdout"
        }
      ]
    },
    {
      "cell_type": "code",
      "metadata": {
        "id": "t5-y622uLSsI",
        "colab_type": "code",
        "outputId": "f317322d-6b08-47c3-f004-6e4a660eb533",
        "colab": {
          "base_uri": "https://localhost:8080/",
          "height": 471
        }
      },
      "source": [
        "from numpy import array\n",
        "X = Y.reshape(1, 25, 2)\n",
        "print(X)"
      ],
      "execution_count": 0,
      "outputs": [
        {
          "output_type": "stream",
          "text": [
            "[[[0 0]\n",
            "  [0 0]\n",
            "  [1 0]\n",
            "  [0 1]\n",
            "  [0 0]\n",
            "  [0 0]\n",
            "  [1 0]\n",
            "  [0 0]\n",
            "  [0 1]\n",
            "  [0 0]\n",
            "  [0 0]\n",
            "  [0 1]\n",
            "  [0 1]\n",
            "  [0 0]\n",
            "  [0 0]\n",
            "  [1 0]\n",
            "  [0 0]\n",
            "  [0 0]\n",
            "  [0 0]\n",
            "  [1 0]\n",
            "  [0 0]\n",
            "  [1 0]\n",
            "  [0 0]\n",
            "  [0 1]\n",
            "  [0 0]]]\n"
          ],
          "name": "stdout"
        }
      ]
    },
    {
      "cell_type": "code",
      "metadata": {
        "id": "Z1IcjZooYjqc",
        "colab_type": "code",
        "outputId": "4f06f573-b8fb-4bda-e53c-876a6081e8bc",
        "colab": {
          "base_uri": "https://localhost:8080/",
          "height": 253
        }
      },
      "source": [
        "# define model\n",
        "import numpy\n",
        "from tensorflow.keras.models import Sequential\n",
        "from tensorflow.keras.layers import LSTM, Dense, Dropout, Masking, Embedding, Activation\n",
        "out_index = 2\n",
        "model = Sequential()\n",
        "model.add(LSTM(25, input_shape=(length, n_features)))\n",
        "model.add(Dense(n_features, activation= 'softmax' ))\n",
        "model.compile (loss= 'categorical_crossentropy' , optimizer= 'adam' , metrics=[ 'acc' ])\n",
        "print (model.summary())"
      ],
      "execution_count": 0,
      "outputs": [
        {
          "output_type": "stream",
          "text": [
            "Model: \"sequential_8\"\n",
            "_________________________________________________________________\n",
            "Layer (type)                 Output Shape              Param #   \n",
            "=================================================================\n",
            "lstm_6 (LSTM)                (None, 25)                3600      \n",
            "_________________________________________________________________\n",
            "dense_2 (Dense)              (None, 10)                260       \n",
            "=================================================================\n",
            "Total params: 3,860\n",
            "Trainable params: 3,860\n",
            "Non-trainable params: 0\n",
            "_________________________________________________________________\n",
            "None\n"
          ],
          "name": "stdout"
        }
      ]
    },
    {
      "cell_type": "code",
      "metadata": {
        "colab_type": "code",
        "id": "0v4Nq-yrgNjb",
        "colab": {}
      },
      "source": [
        "#final\n",
        "from random import randint\n",
        "from numpy import array\n",
        "from numpy import argmax\n",
        "import pandas\n",
        "# generate a sequence of random numbers in [0, n_features)\n",
        "def generate_sequence(length, n_features):\n",
        " return [randint(0, n_features-1) for _ in range (length)]\n",
        "# one hot encode sequence\n",
        "def one_hot_encode(sequence, n_features):\n",
        " encoding = list()\n",
        " for value in sequence:\n",
        "  vector = [0 for _ in range (n_features)]\n",
        "  vector[value] = 1\n",
        "  encoding.append(vector)\n",
        " return array(encoding)\n",
        "# decode a one hot encoded string\n",
        "def one_hot_decode(encoded_seq):\n",
        "  return [argmax(vector) for vector in encoded_seq]\n",
        "# generate one example for an lstm\n",
        "def generate_example(length, n_features, out_index):\n",
        "# generate sequence\n",
        " sequence = generate_sequence(length, n_features)\n",
        "# one hot encode\n",
        " encoded = one_hot_encode(sequence, n_features)\n",
        "# reshape sequence to be 3D\n",
        " X = encoded.reshape((1, length, n_features))\n",
        "# select output\n",
        " y = encoded[out_index].reshape(1, n_features)\n",
        " return X, y\n",
        " "
      ],
      "execution_count": 0,
      "outputs": []
    },
    {
      "cell_type": "code",
      "metadata": {
        "id": "ITZ9VSP46fZK",
        "colab_type": "code",
        "colab": {}
      },
      "source": [
        ""
      ],
      "execution_count": 0,
      "outputs": []
    },
    {
      "cell_type": "code",
      "metadata": {
        "id": "mnd7B7mFdu0B",
        "colab_type": "code",
        "outputId": "b7042956-c13b-4fe0-870b-76eb149e9fe5",
        "colab": {
          "base_uri": "https://localhost:8080/",
          "height": 1000
        }
      },
      "source": [
        "# fit model\n",
        "length = 5\n",
        "n_features = 10\n",
        "out_index = 2\n",
        "for i in range (100):\n",
        " X, y = generate_example(length, n_features, out_index)\n",
        " model.fit(X, y, epochs=1, verbose=2)"
      ],
      "execution_count": 0,
      "outputs": [
        {
          "output_type": "stream",
          "text": [
            "1/1 - 0s - loss: 0.4843 - acc: 1.0000\n",
            "1/1 - 0s - loss: 1.1865 - acc: 1.0000\n",
            "1/1 - 0s - loss: 1.4395 - acc: 0.0000e+00\n",
            "1/1 - 0s - loss: 1.3157 - acc: 0.0000e+00\n",
            "1/1 - 0s - loss: 0.4448 - acc: 1.0000\n",
            "1/1 - 0s - loss: 2.0944 - acc: 0.0000e+00\n",
            "1/1 - 0s - loss: 1.1264 - acc: 1.0000\n",
            "1/1 - 0s - loss: 1.3204 - acc: 0.0000e+00\n",
            "1/1 - 0s - loss: 0.0745 - acc: 1.0000\n",
            "1/1 - 0s - loss: 2.4756 - acc: 0.0000e+00\n",
            "1/1 - 0s - loss: 0.5454 - acc: 1.0000\n",
            "1/1 - 0s - loss: 1.9614 - acc: 0.0000e+00\n",
            "1/1 - 0s - loss: 0.1040 - acc: 1.0000\n",
            "1/1 - 0s - loss: 1.4820 - acc: 0.0000e+00\n",
            "1/1 - 0s - loss: 0.7002 - acc: 1.0000\n",
            "1/1 - 0s - loss: 2.5909 - acc: 0.0000e+00\n",
            "1/1 - 0s - loss: 1.2996 - acc: 1.0000\n",
            "1/1 - 0s - loss: 0.2235 - acc: 1.0000\n",
            "1/1 - 0s - loss: 2.2132 - acc: 0.0000e+00\n",
            "1/1 - 0s - loss: 0.6803 - acc: 1.0000\n",
            "1/1 - 0s - loss: 0.9085 - acc: 1.0000\n",
            "1/1 - 0s - loss: 0.7533 - acc: 1.0000\n",
            "1/1 - 0s - loss: 0.1798 - acc: 1.0000\n",
            "1/1 - 0s - loss: 0.4741 - acc: 1.0000\n",
            "1/1 - 0s - loss: 0.1027 - acc: 1.0000\n",
            "1/1 - 0s - loss: 0.9683 - acc: 1.0000\n",
            "1/1 - 0s - loss: 1.3444 - acc: 0.0000e+00\n",
            "1/1 - 0s - loss: 0.2415 - acc: 1.0000\n",
            "1/1 - 0s - loss: 1.3929 - acc: 0.0000e+00\n",
            "1/1 - 0s - loss: 0.6558 - acc: 1.0000\n",
            "1/1 - 0s - loss: 1.5233 - acc: 0.0000e+00\n",
            "1/1 - 0s - loss: 1.0957 - acc: 1.0000\n",
            "1/1 - 0s - loss: 0.5739 - acc: 1.0000\n",
            "1/1 - 0s - loss: 0.2542 - acc: 1.0000\n",
            "1/1 - 0s - loss: 1.7046 - acc: 0.0000e+00\n",
            "1/1 - 0s - loss: 0.7638 - acc: 1.0000\n",
            "1/1 - 0s - loss: 1.8789 - acc: 0.0000e+00\n",
            "1/1 - 0s - loss: 0.6956 - acc: 1.0000\n",
            "1/1 - 0s - loss: 0.1767 - acc: 1.0000\n",
            "1/1 - 0s - loss: 1.6327 - acc: 0.0000e+00\n",
            "1/1 - 0s - loss: 0.2008 - acc: 1.0000\n",
            "1/1 - 0s - loss: 1.9367 - acc: 0.0000e+00\n",
            "1/1 - 0s - loss: 1.5344 - acc: 0.0000e+00\n",
            "1/1 - 0s - loss: 1.3035 - acc: 0.0000e+00\n",
            "1/1 - 0s - loss: 0.6098 - acc: 1.0000\n",
            "1/1 - 0s - loss: 1.8726 - acc: 0.0000e+00\n",
            "1/1 - 0s - loss: 0.6145 - acc: 1.0000\n",
            "1/1 - 0s - loss: 0.5325 - acc: 1.0000\n",
            "1/1 - 0s - loss: 0.7721 - acc: 1.0000\n",
            "1/1 - 0s - loss: 0.4451 - acc: 1.0000\n",
            "1/1 - 0s - loss: 0.9392 - acc: 1.0000\n",
            "1/1 - 0s - loss: 0.1988 - acc: 1.0000\n",
            "1/1 - 0s - loss: 1.3819 - acc: 0.0000e+00\n",
            "1/1 - 0s - loss: 1.0790 - acc: 0.0000e+00\n",
            "1/1 - 0s - loss: 1.1864 - acc: 0.0000e+00\n",
            "1/1 - 0s - loss: 0.0943 - acc: 1.0000\n",
            "1/1 - 0s - loss: 0.5643 - acc: 1.0000\n",
            "1/1 - 0s - loss: 0.2145 - acc: 1.0000\n",
            "1/1 - 0s - loss: 0.7962 - acc: 1.0000\n",
            "1/1 - 0s - loss: 1.2275 - acc: 0.0000e+00\n",
            "1/1 - 0s - loss: 1.1150 - acc: 1.0000\n",
            "1/1 - 0s - loss: 1.1951 - acc: 0.0000e+00\n",
            "1/1 - 0s - loss: 2.4819 - acc: 0.0000e+00\n",
            "1/1 - 0s - loss: 3.2052 - acc: 0.0000e+00\n",
            "1/1 - 0s - loss: 1.5982 - acc: 0.0000e+00\n",
            "1/1 - 0s - loss: 1.8972 - acc: 0.0000e+00\n",
            "1/1 - 0s - loss: 0.8225 - acc: 1.0000\n",
            "1/1 - 0s - loss: 1.6964 - acc: 0.0000e+00\n",
            "1/1 - 0s - loss: 1.7252 - acc: 1.0000\n",
            "1/1 - 0s - loss: 0.4428 - acc: 1.0000\n",
            "1/1 - 0s - loss: 0.6821 - acc: 1.0000\n",
            "1/1 - 0s - loss: 0.9169 - acc: 1.0000\n",
            "1/1 - 0s - loss: 0.1224 - acc: 1.0000\n",
            "1/1 - 0s - loss: 0.8794 - acc: 1.0000\n",
            "1/1 - 0s - loss: 2.4068 - acc: 0.0000e+00\n",
            "1/1 - 0s - loss: 0.2309 - acc: 1.0000\n",
            "1/1 - 0s - loss: 1.0904 - acc: 0.0000e+00\n",
            "1/1 - 0s - loss: 1.4209 - acc: 0.0000e+00\n",
            "1/1 - 0s - loss: 0.9658 - acc: 1.0000\n",
            "1/1 - 0s - loss: 1.4554 - acc: 0.0000e+00\n",
            "1/1 - 0s - loss: 0.2569 - acc: 1.0000\n",
            "1/1 - 0s - loss: 1.5490 - acc: 0.0000e+00\n",
            "1/1 - 0s - loss: 0.9881 - acc: 0.0000e+00\n",
            "1/1 - 0s - loss: 1.2236 - acc: 0.0000e+00\n",
            "1/1 - 0s - loss: 0.5916 - acc: 1.0000\n",
            "1/1 - 0s - loss: 1.4768 - acc: 0.0000e+00\n",
            "1/1 - 0s - loss: 0.9106 - acc: 1.0000\n",
            "1/1 - 0s - loss: 0.7829 - acc: 1.0000\n",
            "1/1 - 0s - loss: 2.0513 - acc: 0.0000e+00\n",
            "1/1 - 0s - loss: 0.8040 - acc: 1.0000\n",
            "1/1 - 0s - loss: 1.0866 - acc: 1.0000\n",
            "1/1 - 0s - loss: 2.7331 - acc: 0.0000e+00\n",
            "1/1 - 0s - loss: 0.8199 - acc: 1.0000\n",
            "1/1 - 0s - loss: 1.0651 - acc: 1.0000\n",
            "1/1 - 0s - loss: 2.8266 - acc: 0.0000e+00\n",
            "1/1 - 0s - loss: 1.3544 - acc: 0.0000e+00\n",
            "1/1 - 0s - loss: 1.0597 - acc: 1.0000\n",
            "1/1 - 0s - loss: 0.1907 - acc: 1.0000\n",
            "1/1 - 0s - loss: 1.0415 - acc: 0.0000e+00\n",
            "1/1 - 0s - loss: 0.3339 - acc: 1.0000\n"
          ],
          "name": "stdout"
        }
      ]
    },
    {
      "cell_type": "code",
      "metadata": {
        "id": "AsXdCERy75Dy",
        "colab_type": "code",
        "outputId": "d5d7c49d-7299-41ee-b9f1-075d257b0f20",
        "colab": {
          "base_uri": "https://localhost:8080/",
          "height": 35
        }
      },
      "source": [
        "# evaluate model\n",
        "correct = 0\n",
        "for i in range (100):\n",
        " X, y = generate_example(length, n_features, out_index)\n",
        " yhat = model.predict(X)\n",
        " if one_hot_decode(yhat) == one_hot_decode(y):\n",
        "  correct += 1\n",
        "print ( 'Accuracy: %f' % ((correct/100)*100.0))"
      ],
      "execution_count": 0,
      "outputs": [
        {
          "output_type": "stream",
          "text": [
            "Accuracy: 72.000000\n"
          ],
          "name": "stdout"
        }
      ]
    },
    {
      "cell_type": "code",
      "metadata": {
        "id": "mLX5AIgT8ZkE",
        "colab_type": "code",
        "outputId": "046e6789-ef2b-4034-a741-be1a61dca2e6",
        "colab": {
          "base_uri": "https://localhost:8080/",
          "height": 90
        }
      },
      "source": [
        "X, y = generate_example(length, n_features, out_index)\n",
        "yhat = model.predict(X)\n",
        "print ( 'Sequence: %s' % [one_hot_decode(x) for x in X])\n",
        "print ( 'Expected: %s' % one_hot_decode(y))\n",
        "print ( 'Predicted : %s' % one_hot_decode(yhat))"
      ],
      "execution_count": 0,
      "outputs": [
        {
          "output_type": "stream",
          "text": [
            "ERROR! Session/line number was not unique in database. History logging moved to new session 64\n",
            "Sequence: [[6, 6, 7, 7, 9]]\n",
            "Expected: [7]\n",
            "Predicted : [7]\n"
          ],
          "name": "stdout"
        }
      ]
    },
    {
      "cell_type": "code",
      "metadata": {
        "id": "TVME1QMVE5j1",
        "colab_type": "code",
        "outputId": "dee42ecc-fe49-4745-effa-56a9426ee89c",
        "colab": {
          "base_uri": "https://localhost:8080/",
          "height": 90
        }
      },
      "source": [
        "from keras.layers import Input, Dense\n",
        "from keras.models import Model\n",
        "import numpy as np \n",
        "import pandas as pd\n",
        "from random import randint\n",
        "from numpy import array\n",
        "from numpy import argmax\n",
        "from tensorflow.keras.models import Sequential\n",
        "from tensorflow.keras.layers import LSTM, Dense, Dropout, Masking, Embedding, Activation\n",
        "model = Sequential()\n",
        "model.add(LSTM(1, input_shape=(3,1)))\n",
        "model.compile (optimizer= 'adam' , loss= 'mse' )\n",
        "# input time steps\n",
        "data = array([0.1, 0.2, 0.3]).reshape((1,3,1))\n",
        "print(data)\n",
        "# make and show prediction\n",
        "print (model.predict(data))"
      ],
      "execution_count": 0,
      "outputs": [
        {
          "output_type": "stream",
          "text": [
            "[[[0.1]\n",
            "  [0.2]\n",
            "  [0.3]]]\n",
            "[[0.00433646]]\n"
          ],
          "name": "stdout"
        }
      ]
    },
    {
      "cell_type": "code",
      "metadata": {
        "id": "Zv3rGcDFK33Y",
        "colab_type": "code",
        "outputId": "014a9eed-4a1f-465b-bef4-724adc82b24b",
        "colab": {
          "base_uri": "https://localhost:8080/",
          "height": 126
        }
      },
      "source": [
        "# Example of one output for each input time step\n",
        "from keras.layers import Input, Dense\n",
        "from keras.models import Model\n",
        "import numpy as np \n",
        "import pandas as pd\n",
        "from random import randint\n",
        "from numpy import array\n",
        "from numpy import argmax\n",
        "from tensorflow.keras.models import Sequential\n",
        "from tensorflow.keras.layers import LSTM, Dense, Dropout, Masking, Embedding, Activation\n",
        "# define model where LSTM is also output layer\n",
        "model = Sequential()\n",
        "model.add(LSTM(1, return_sequences=True, input_shape=(3,1)))\n",
        "model.compile (optimizer= 'adam' , loss= 'mse' )\n",
        "# input time steps\n",
        "data = array([0.1, 0.2, 0.3]).reshape((1,3,1))\n",
        "print(data)\n",
        "# make and show prediction\n",
        "print (model.predict(data))"
      ],
      "execution_count": 0,
      "outputs": [
        {
          "output_type": "stream",
          "text": [
            "[[[0.1]\n",
            "  [0.2]\n",
            "  [0.3]]]\n",
            "[[[-0.00613188]\n",
            "  [-0.01569991]\n",
            "  [-0.02686818]]]\n"
          ],
          "name": "stdout"
        }
      ]
    },
    {
      "cell_type": "code",
      "metadata": {
        "id": "Ok2PoVaQj8U6",
        "colab_type": "code",
        "outputId": "9edbdefd-6611-41fc-da7b-818c963f66a3",
        "colab": {
          "base_uri": "https://localhost:8080/",
          "height": 265
        }
      },
      "source": [
        "from math import sin\n",
        "from math import pi\n",
        "from matplotlib import pyplot\n",
        "# create sequence\n",
        "length = 100\n",
        "freq = 5\n",
        "sequence = [sin(2 * pi * freq * (i/length)) for i in range (length)]\n",
        "# plot sequence\n",
        "pyplot.plot(sequence)\n",
        "pyplot.show()"
      ],
      "execution_count": 0,
      "outputs": [
        {
          "output_type": "display_data",
          "data": {
            "image/png": "[encoded data removed]",
            "text/plain": [
              "<Figure size 432x288 with 1 Axes>"
            ]
          },
          "metadata": {
            "tags": []
          }
        }
      ]
    },
    {
      "cell_type": "code",
      "metadata": {
        "id": "GL3SGv_AlaoL",
        "colab_type": "code",
        "colab": {}
      },
      "source": [
        "from random import seed\n",
        "from random import randint\n",
        "# generate lists of random integers and their sum\n",
        "def random_sum_pairs(n_examples, n_numbers, largest):\n",
        " X, y = list(), list()\n",
        " for i in range (n_examples):\n",
        "  in_pattern = [randint(1,largest) for _ in range (n_numbers)]\n",
        "  print(in_pattern)\n",
        "  out_pattern = sum (in_pattern)\n",
        "  print(out_pattern)\n",
        "  X.append(in_pattern)\n",
        "  y.append(out_pattern)\n",
        " return X, y"
      ],
      "execution_count": 0,
      "outputs": []
    },
    {
      "cell_type": "code",
      "metadata": {
        "id": "SaReiw_xlj3T",
        "colab_type": "code",
        "colab": {
          "base_uri": "https://localhost:8080/",
          "height": 108
        },
        "outputId": "4dc2afdc-5fa1-4ec3-c323-b4ddd80f307d"
      },
      "source": [
        "seed(1)\n",
        "n_samples = 2\n",
        "n_numbers = 2\n",
        "largest = 10\n",
        "# generate pairs\n",
        "X, y = random_sum_pairs(n_samples, n_numbers, largest)\n",
        "print (X, y)"
      ],
      "execution_count": 7,
      "outputs": [
        {
          "output_type": "stream",
          "text": [
            "[3, 10]\n",
            "13\n",
            "[2, 5]\n",
            "7\n",
            "[[3, 10], [2, 5]] [13, 7]\n"
          ],
          "name": "stdout"
        }
      ]
    },
    {
      "cell_type": "code",
      "metadata": {
        "id": "3u_J8kXvO7pU",
        "colab_type": "code",
        "colab": {}
      },
      "source": [
        ""
      ],
      "execution_count": 0,
      "outputs": []
    }
  ]
}